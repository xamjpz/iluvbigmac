{
 "cells": [
  {
   "attachments": {},
   "cell_type": "markdown",
   "metadata": {},
   "source": [
    "# Big Mac CSV Activities\n",
    "I have provided you with a very small amount of the original big mac data dataset in a .csv file. Use it to complete all the activities in this notebook."
   ]
  },
  {
   "cell_type": "code",
   "execution_count": null,
   "metadata": {},
   "outputs": [],
   "source": [
    "import pandas as pd\n",
    "\n",
    "#Read in the big_mac_aud.csv file and store it as big_mac_df. Add the headings 'Country', 'Local', 'AUD' and 'Date'\n",
    "\n",
    "\n",
    "#Output the big_mac_df\n"
   ]
  },
  {
   "cell_type": "markdown",
   "metadata": {},
   "source": [
    "## Add More Rows\n",
    "\n",
    "I want to add France to the above dataframe. The cost is 5.30 EUROs. You'll need to do the conversion for AUD.\n",
    "\n",
    "For information on how to add a row to a dataframe, read through the instructions on [How to Add New Rows to a Pandas Dataframe](https://saturncloud.io/blog/how-to-add-new-rows-to-a-pandas-dataframe/)\n",
    "\n",
    "**NOTE:** Inbetween each test, make sure to *Clear All Outputs* and *Run All* (options at the top of the screen)."
   ]
  },
  {
   "cell_type": "code",
   "execution_count": null,
   "metadata": {},
   "outputs": [],
   "source": [
    "#Create a new row as a dictionary called 'new_row'\n",
    "\n",
    "\n",
    "#Add the row to big_mac_df with either the append or loc function\n",
    "\n",
    "\n",
    "#Print the dataframe\n"
   ]
  },
  {
   "cell_type": "markdown",
   "metadata": {},
   "source": [
    "## Write to .csv File\n",
    "Now that we've updated the data, let's write a new .csv file reflecting the changes. \n",
    "\n",
    "**NOTE:** It should not create multiple files if you keep running this, but just remember to *Clear All Outputs* inbetween each test to avoid adding France more than once. "
   ]
  },
  {
   "cell_type": "code",
   "execution_count": null,
   "metadata": {},
   "outputs": [],
   "source": [
    "#Write the big_mac_df big_mac_update.csv in the data folder. Do not include indexes.\n"
   ]
  }
 ],
 "metadata": {
  "kernelspec": {
   "display_name": "Python 3",
   "language": "python",
   "name": "python3"
  },
  "language_info": {
   "codemirror_mode": {
    "name": "ipython",
    "version": 3
   },
   "file_extension": ".py",
   "mimetype": "text/x-python",
   "name": "python",
   "nbconvert_exporter": "python",
   "pygments_lexer": "ipython3",
   "version": "3.11.4"
  },
  "orig_nbformat": 4
 },
 "nbformat": 4,
 "nbformat_minor": 2
}
