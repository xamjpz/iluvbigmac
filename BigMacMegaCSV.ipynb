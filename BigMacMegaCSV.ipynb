{
 "cells": [
  {
   "cell_type": "markdown",
   "metadata": {},
   "source": [
    "# Big Mac Mega CSV\n",
    "For this part we're going to be working with the *big_mac_source_data_v2.csv*, which is the original dataset. \n",
    "\n",
    "We'll be removing columns and removing rows to make the data more manageable and hone in on what we're looking for.\n",
    "\n",
    "Please note that this compares the data by working with the US dollar at the time of publishing the dataset, not AUD. It's got the local price and dollar exchange.\n",
    "\n",
    "For these activities please look at *08 - Removing and Splitting Dataframes* and onwards."
   ]
  },
  {
   "cell_type": "code",
   "execution_count": null,
   "metadata": {},
   "outputs": [],
   "source": [
    "import pandas as pd\n",
    "\n",
    "#Read in the big_mac_source_data_v2.csv into a dataframe and show the first five rows of data (using .head())\n",
    "\n",
    "\n",
    "#Now, remove the iso_a3, GDP_dollar and GDP_local columns\n",
    "\n",
    "\n",
    "#Print the dataframe\n",
    "\n",
    "\n"
   ]
  },
  {
   "cell_type": "markdown",
   "metadata": {},
   "source": [
    "### Remove Rows\n",
    "Now we want to remove some rows. We want to just focus on data from the start of the 2023-2024 financial year (01-07-2023).\n",
    "\n",
    "There are two options for this:\n",
    "\n",
    "#### Remove Rows by Index\n",
    "We can remove all rows by index by looking at the index and deleting all rows. \n",
    "\n",
    "[Remove Rows By Index](https://scales.arabpsychology.com/stats/how-to-drop-rows-by-index-in-pandas-with-examples/#:~:text=Dropping%20rows%20by%20index%20in,provided%20to%20illustrate%20the%20process)\n",
    "\n",
    "Look through the above to know how to drop rows by index. However, we need to know how to drop a broad range of rows by index. You'll need this code to find the index `df.loc[x:y].index`, which will go in place of `index=[...]` when calling the drop function.\n",
    "\n",
    "#### Remove duplicates in a column\n",
    "We can also remove all duplicates of a column except for the last value, which is probably a little easier. \n",
    "\n",
    "\n",
    "[Remove Duplicates and Keep the Latest](https://scales.arabpsychology.com/stats/how-do-i-drop-duplicate-rows-in-pandas-and-keep-the-latest-one/)\n",
    "\n",
    "You'll want to remove the `sort_values('time')` section, but aside from that it should work if you remember to look at the `name` column as opposed to their example of `item` column. The only issue here is we do end up keeping a couple of countries which stopped reporting data (UAE and Russia). This means you will need to manually remove the first two rows (you can do this by index, look above)."
   ]
  },
  {
   "cell_type": "code",
   "execution_count": null,
   "metadata": {},
   "outputs": [],
   "source": [
    "#Remove the data using either method below. If you want to try both, COMMENT OUT ONE OF THEM AND CLEAR ALL OUTPUTS."
   ]
  },
  {
   "cell_type": "markdown",
   "metadata": {},
   "source": [
    "## Create .csv File\n",
    "Let's finish this off by storing just the 01-07-2023 values into a new .csv file. "
   ]
  },
  {
   "cell_type": "code",
   "execution_count": null,
   "metadata": {},
   "outputs": [],
   "source": [
    "#Write updated DataFrame to .csv file 'big_mac_2023.csv'\n"
   ]
  }
 ],
 "metadata": {
  "kernelspec": {
   "display_name": "Python 3",
   "language": "python",
   "name": "python3"
  },
  "language_info": {
   "codemirror_mode": {
    "name": "ipython",
    "version": 3
   },
   "file_extension": ".py",
   "mimetype": "text/x-python",
   "name": "python",
   "nbconvert_exporter": "python",
   "pygments_lexer": "ipython3",
   "version": "3.11.4"
  }
 },
 "nbformat": 4,
 "nbformat_minor": 2
}
